{
 "cells": [
  {
   "cell_type": "markdown",
   "id": "ecb53513",
   "metadata": {},
   "source": [
    "# California Population Estimates"
   ]
  },
  {
   "cell_type": "code",
   "execution_count": 1,
   "id": "b091fed7",
   "metadata": {},
   "outputs": [],
   "source": [
    "import pandas as pd\n"
   ]
  },
  {
   "cell_type": "code",
   "execution_count": 2,
   "id": "15d3b9e4",
   "metadata": {},
   "outputs": [],
   "source": [
    "ca_population = pd.read_csv(\"./data/capopulation.csv\",skipinitialspace = True)"
   ]
  },
  {
   "cell_type": "code",
   "execution_count": 3,
   "id": "744cdd98",
   "metadata": {},
   "outputs": [
    {
     "data": {
      "text/html": [
       "<div>\n",
       "<style scoped>\n",
       "    .dataframe tbody tr th:only-of-type {\n",
       "        vertical-align: middle;\n",
       "    }\n",
       "\n",
       "    .dataframe tbody tr th {\n",
       "        vertical-align: top;\n",
       "    }\n",
       "\n",
       "    .dataframe thead th {\n",
       "        text-align: right;\n",
       "    }\n",
       "</style>\n",
       "<table border=\"1\" class=\"dataframe\">\n",
       "  <thead>\n",
       "    <tr style=\"text-align: right;\">\n",
       "      <th></th>\n",
       "      <th>GEO_ID</th>\n",
       "      <th>NAME</th>\n",
       "      <th>DATE_CODE</th>\n",
       "      <th>POP</th>\n",
       "    </tr>\n",
       "  </thead>\n",
       "  <tbody>\n",
       "    <tr>\n",
       "      <th>0</th>\n",
       "      <td>id</td>\n",
       "      <td>Geographic Area Name</td>\n",
       "      <td>Estimate Date</td>\n",
       "      <td>Population</td>\n",
       "    </tr>\n",
       "    <tr>\n",
       "      <th>1</th>\n",
       "      <td>0400000US06</td>\n",
       "      <td>California</td>\n",
       "      <td>4/1/2010 Census population</td>\n",
       "      <td>37253956</td>\n",
       "    </tr>\n",
       "    <tr>\n",
       "      <th>2</th>\n",
       "      <td>0400000US06</td>\n",
       "      <td>California</td>\n",
       "      <td>4/1/2010 population estimates base</td>\n",
       "      <td>37254519</td>\n",
       "    </tr>\n",
       "    <tr>\n",
       "      <th>3</th>\n",
       "      <td>0400000US06</td>\n",
       "      <td>California</td>\n",
       "      <td>7/1/2010 population estimate</td>\n",
       "      <td>37319502</td>\n",
       "    </tr>\n",
       "    <tr>\n",
       "      <th>4</th>\n",
       "      <td>0400000US06</td>\n",
       "      <td>California</td>\n",
       "      <td>7/1/2011 population estimate</td>\n",
       "      <td>37638369</td>\n",
       "    </tr>\n",
       "    <tr>\n",
       "      <th>5</th>\n",
       "      <td>0400000US06</td>\n",
       "      <td>California</td>\n",
       "      <td>7/1/2012 population estimate</td>\n",
       "      <td>37948800</td>\n",
       "    </tr>\n",
       "    <tr>\n",
       "      <th>6</th>\n",
       "      <td>0400000US06</td>\n",
       "      <td>California</td>\n",
       "      <td>7/1/2013 population estimate</td>\n",
       "      <td>38260787</td>\n",
       "    </tr>\n",
       "    <tr>\n",
       "      <th>7</th>\n",
       "      <td>0400000US06</td>\n",
       "      <td>California</td>\n",
       "      <td>7/1/2014 population estimate</td>\n",
       "      <td>38596972</td>\n",
       "    </tr>\n",
       "    <tr>\n",
       "      <th>8</th>\n",
       "      <td>0400000US06</td>\n",
       "      <td>California</td>\n",
       "      <td>7/1/2015 population estimate</td>\n",
       "      <td>38918045</td>\n",
       "    </tr>\n",
       "    <tr>\n",
       "      <th>9</th>\n",
       "      <td>0400000US06</td>\n",
       "      <td>California</td>\n",
       "      <td>7/1/2016 population estimate</td>\n",
       "      <td>39167117</td>\n",
       "    </tr>\n",
       "    <tr>\n",
       "      <th>10</th>\n",
       "      <td>0400000US06</td>\n",
       "      <td>California</td>\n",
       "      <td>7/1/2017 population estimate</td>\n",
       "      <td>39358497</td>\n",
       "    </tr>\n",
       "    <tr>\n",
       "      <th>11</th>\n",
       "      <td>0400000US06</td>\n",
       "      <td>California</td>\n",
       "      <td>7/1/2018 population estimate</td>\n",
       "      <td>39461588</td>\n",
       "    </tr>\n",
       "    <tr>\n",
       "      <th>12</th>\n",
       "      <td>0400000US06</td>\n",
       "      <td>California</td>\n",
       "      <td>7/1/2019 population estimate</td>\n",
       "      <td>39512223</td>\n",
       "    </tr>\n",
       "  </tbody>\n",
       "</table>\n",
       "</div>"
      ],
      "text/plain": [
       "         GEO_ID                  NAME                           DATE_CODE  \\\n",
       "0            id  Geographic Area Name                       Estimate Date   \n",
       "1   0400000US06            California          4/1/2010 Census population   \n",
       "2   0400000US06            California  4/1/2010 population estimates base   \n",
       "3   0400000US06            California        7/1/2010 population estimate   \n",
       "4   0400000US06            California        7/1/2011 population estimate   \n",
       "5   0400000US06            California        7/1/2012 population estimate   \n",
       "6   0400000US06            California        7/1/2013 population estimate   \n",
       "7   0400000US06            California        7/1/2014 population estimate   \n",
       "8   0400000US06            California        7/1/2015 population estimate   \n",
       "9   0400000US06            California        7/1/2016 population estimate   \n",
       "10  0400000US06            California        7/1/2017 population estimate   \n",
       "11  0400000US06            California        7/1/2018 population estimate   \n",
       "12  0400000US06            California        7/1/2019 population estimate   \n",
       "\n",
       "           POP  \n",
       "0   Population  \n",
       "1     37253956  \n",
       "2     37254519  \n",
       "3     37319502  \n",
       "4     37638369  \n",
       "5     37948800  \n",
       "6     38260787  \n",
       "7     38596972  \n",
       "8     38918045  \n",
       "9     39167117  \n",
       "10    39358497  \n",
       "11    39461588  \n",
       "12    39512223  "
      ]
     },
     "execution_count": 3,
     "metadata": {},
     "output_type": "execute_result"
    }
   ],
   "source": [
    "ca_population"
   ]
  },
  {
   "cell_type": "code",
   "execution_count": 4,
   "id": "295116e3",
   "metadata": {},
   "outputs": [],
   "source": [
    "ca_population= ca_population.drop(columns=['GEO_ID', 'NAME'])"
   ]
  },
  {
   "cell_type": "code",
   "execution_count": 5,
   "id": "c9aaae96",
   "metadata": {},
   "outputs": [],
   "source": [
    "ca_population= ca_population.drop([0])"
   ]
  },
  {
   "cell_type": "code",
   "execution_count": null,
   "id": "b1716205",
   "metadata": {},
   "outputs": [],
   "source": []
  },
  {
   "cell_type": "code",
   "execution_count": 6,
   "id": "b9eacb98",
   "metadata": {},
   "outputs": [],
   "source": [
    "ca_population[\"DATE_CODE\"] = ca_population[\"DATE_CODE\"].str.replace(\"population estimates base\", \"\")\n",
    "ca_population[\"DATE_CODE\"] = ca_population[\"DATE_CODE\"].str.replace(\"population estimate\", \"\")\n",
    "ca_population[\"DATE_CODE\"] = ca_population[\"DATE_CODE\"].str.replace(\"Census population\", \"\")\n",
    "ca_population[\"DATE_CODE\"] = ca_population[\"DATE_CODE\"].str.replace(\"7/1/\", \"\")\n",
    "ca_population[\"DATE_CODE\"] = ca_population[\"DATE_CODE\"].str.replace(\"4/1/\",\"\")"
   ]
  },
  {
   "cell_type": "code",
   "execution_count": 7,
   "id": "4b82bd54",
   "metadata": {
    "scrolled": true
   },
   "outputs": [
    {
     "data": {
      "text/plain": [
       "1     2010 \n",
       "2     2010 \n",
       "3     2010 \n",
       "4     2011 \n",
       "5     2012 \n",
       "6     2013 \n",
       "7     2014 \n",
       "8     2015 \n",
       "9     2016 \n",
       "10    2017 \n",
       "11    2018 \n",
       "12    2019 \n",
       "Name: DATE_CODE, dtype: object"
      ]
     },
     "execution_count": 7,
     "metadata": {},
     "output_type": "execute_result"
    }
   ],
   "source": [
    "ca_population[\"DATE_CODE\"]"
   ]
  },
  {
   "cell_type": "code",
   "execution_count": 8,
   "id": "808ea429",
   "metadata": {},
   "outputs": [],
   "source": [
    "ca_population['Year'] = ca_population['DATE_CODE']\n"
   ]
  },
  {
   "cell_type": "code",
   "execution_count": 9,
   "id": "42800432",
   "metadata": {
    "scrolled": true
   },
   "outputs": [
    {
     "data": {
      "text/plain": [
       "1     2010 \n",
       "2     2010 \n",
       "3     2010 \n",
       "4     2011 \n",
       "5     2012 \n",
       "6     2013 \n",
       "7     2014 \n",
       "8     2015 \n",
       "9     2016 \n",
       "10    2017 \n",
       "11    2018 \n",
       "12    2019 \n",
       "Name: Year, dtype: object"
      ]
     },
     "execution_count": 9,
     "metadata": {},
     "output_type": "execute_result"
    }
   ],
   "source": [
    "ca_population[\"Year\"]"
   ]
  },
  {
   "cell_type": "code",
   "execution_count": 10,
   "id": "4d23c4a9",
   "metadata": {},
   "outputs": [
    {
     "data": {
      "text/html": [
       "<div>\n",
       "<style scoped>\n",
       "    .dataframe tbody tr th:only-of-type {\n",
       "        vertical-align: middle;\n",
       "    }\n",
       "\n",
       "    .dataframe tbody tr th {\n",
       "        vertical-align: top;\n",
       "    }\n",
       "\n",
       "    .dataframe thead th {\n",
       "        text-align: right;\n",
       "    }\n",
       "</style>\n",
       "<table border=\"1\" class=\"dataframe\">\n",
       "  <thead>\n",
       "    <tr style=\"text-align: right;\">\n",
       "      <th></th>\n",
       "      <th>DATE_CODE</th>\n",
       "      <th>POP</th>\n",
       "      <th>Year</th>\n",
       "    </tr>\n",
       "  </thead>\n",
       "  <tbody>\n",
       "    <tr>\n",
       "      <th>1</th>\n",
       "      <td>2010</td>\n",
       "      <td>37253956</td>\n",
       "      <td>2010</td>\n",
       "    </tr>\n",
       "    <tr>\n",
       "      <th>2</th>\n",
       "      <td>2010</td>\n",
       "      <td>37254519</td>\n",
       "      <td>2010</td>\n",
       "    </tr>\n",
       "    <tr>\n",
       "      <th>3</th>\n",
       "      <td>2010</td>\n",
       "      <td>37319502</td>\n",
       "      <td>2010</td>\n",
       "    </tr>\n",
       "    <tr>\n",
       "      <th>4</th>\n",
       "      <td>2011</td>\n",
       "      <td>37638369</td>\n",
       "      <td>2011</td>\n",
       "    </tr>\n",
       "    <tr>\n",
       "      <th>5</th>\n",
       "      <td>2012</td>\n",
       "      <td>37948800</td>\n",
       "      <td>2012</td>\n",
       "    </tr>\n",
       "    <tr>\n",
       "      <th>6</th>\n",
       "      <td>2013</td>\n",
       "      <td>38260787</td>\n",
       "      <td>2013</td>\n",
       "    </tr>\n",
       "    <tr>\n",
       "      <th>7</th>\n",
       "      <td>2014</td>\n",
       "      <td>38596972</td>\n",
       "      <td>2014</td>\n",
       "    </tr>\n",
       "    <tr>\n",
       "      <th>8</th>\n",
       "      <td>2015</td>\n",
       "      <td>38918045</td>\n",
       "      <td>2015</td>\n",
       "    </tr>\n",
       "    <tr>\n",
       "      <th>9</th>\n",
       "      <td>2016</td>\n",
       "      <td>39167117</td>\n",
       "      <td>2016</td>\n",
       "    </tr>\n",
       "    <tr>\n",
       "      <th>10</th>\n",
       "      <td>2017</td>\n",
       "      <td>39358497</td>\n",
       "      <td>2017</td>\n",
       "    </tr>\n",
       "    <tr>\n",
       "      <th>11</th>\n",
       "      <td>2018</td>\n",
       "      <td>39461588</td>\n",
       "      <td>2018</td>\n",
       "    </tr>\n",
       "    <tr>\n",
       "      <th>12</th>\n",
       "      <td>2019</td>\n",
       "      <td>39512223</td>\n",
       "      <td>2019</td>\n",
       "    </tr>\n",
       "  </tbody>\n",
       "</table>\n",
       "</div>"
      ],
      "text/plain": [
       "   DATE_CODE       POP   Year\n",
       "1      2010   37253956  2010 \n",
       "2      2010   37254519  2010 \n",
       "3      2010   37319502  2010 \n",
       "4      2011   37638369  2011 \n",
       "5      2012   37948800  2012 \n",
       "6      2013   38260787  2013 \n",
       "7      2014   38596972  2014 \n",
       "8      2015   38918045  2015 \n",
       "9      2016   39167117  2016 \n",
       "10     2017   39358497  2017 \n",
       "11     2018   39461588  2018 \n",
       "12     2019   39512223  2019 "
      ]
     },
     "execution_count": 10,
     "metadata": {},
     "output_type": "execute_result"
    }
   ],
   "source": [
    "ca_population"
   ]
  },
  {
   "cell_type": "code",
   "execution_count": null,
   "id": "5a241642",
   "metadata": {},
   "outputs": [],
   "source": []
  },
  {
   "cell_type": "code",
   "execution_count": 11,
   "id": "e4a8788d",
   "metadata": {},
   "outputs": [
    {
     "data": {
      "text/plain": [
       "1     2010\n",
       "2     2010\n",
       "3     2010\n",
       "4     2011\n",
       "5     2012\n",
       "6     2013\n",
       "7     2014\n",
       "8     2015\n",
       "9     2016\n",
       "10    2017\n",
       "11    2018\n",
       "12    2019\n",
       "Name: Year, dtype: int64"
      ]
     },
     "execution_count": 11,
     "metadata": {},
     "output_type": "execute_result"
    }
   ],
   "source": [
    "ca_population['Year'].astype(int)"
   ]
  },
  {
   "cell_type": "code",
   "execution_count": 12,
   "id": "8747a3c0",
   "metadata": {},
   "outputs": [],
   "source": [
    "ca_population = ca_population[   ca_population[\"Year\"]> \"2015\"   ]"
   ]
  },
  {
   "cell_type": "code",
   "execution_count": 13,
   "id": "b36db26d",
   "metadata": {},
   "outputs": [],
   "source": [
    "ca_population = ca_population.reset_index(drop=True)"
   ]
  },
  {
   "cell_type": "code",
   "execution_count": 14,
   "id": "0173aeec",
   "metadata": {},
   "outputs": [
    {
     "data": {
      "text/html": [
       "<div>\n",
       "<style scoped>\n",
       "    .dataframe tbody tr th:only-of-type {\n",
       "        vertical-align: middle;\n",
       "    }\n",
       "\n",
       "    .dataframe tbody tr th {\n",
       "        vertical-align: top;\n",
       "    }\n",
       "\n",
       "    .dataframe thead th {\n",
       "        text-align: right;\n",
       "    }\n",
       "</style>\n",
       "<table border=\"1\" class=\"dataframe\">\n",
       "  <thead>\n",
       "    <tr style=\"text-align: right;\">\n",
       "      <th></th>\n",
       "      <th>DATE_CODE</th>\n",
       "      <th>POP</th>\n",
       "      <th>Year</th>\n",
       "    </tr>\n",
       "  </thead>\n",
       "  <tbody>\n",
       "    <tr>\n",
       "      <th>0</th>\n",
       "      <td>2015</td>\n",
       "      <td>38918045</td>\n",
       "      <td>2015</td>\n",
       "    </tr>\n",
       "    <tr>\n",
       "      <th>1</th>\n",
       "      <td>2016</td>\n",
       "      <td>39167117</td>\n",
       "      <td>2016</td>\n",
       "    </tr>\n",
       "    <tr>\n",
       "      <th>2</th>\n",
       "      <td>2017</td>\n",
       "      <td>39358497</td>\n",
       "      <td>2017</td>\n",
       "    </tr>\n",
       "    <tr>\n",
       "      <th>3</th>\n",
       "      <td>2018</td>\n",
       "      <td>39461588</td>\n",
       "      <td>2018</td>\n",
       "    </tr>\n",
       "    <tr>\n",
       "      <th>4</th>\n",
       "      <td>2019</td>\n",
       "      <td>39512223</td>\n",
       "      <td>2019</td>\n",
       "    </tr>\n",
       "  </tbody>\n",
       "</table>\n",
       "</div>"
      ],
      "text/plain": [
       "  DATE_CODE       POP   Year\n",
       "0     2015   38918045  2015 \n",
       "1     2016   39167117  2016 \n",
       "2     2017   39358497  2017 \n",
       "3     2018   39461588  2018 \n",
       "4     2019   39512223  2019 "
      ]
     },
     "execution_count": 14,
     "metadata": {},
     "output_type": "execute_result"
    }
   ],
   "source": [
    "ca_population"
   ]
  },
  {
   "cell_type": "code",
   "execution_count": 15,
   "id": "681864f7",
   "metadata": {},
   "outputs": [],
   "source": [
    "ca_population[\"Population\"]= ca_population[\"POP\"]"
   ]
  },
  {
   "cell_type": "code",
   "execution_count": 16,
   "id": "eff9c227",
   "metadata": {},
   "outputs": [
    {
     "data": {
      "text/html": [
       "<div>\n",
       "<style scoped>\n",
       "    .dataframe tbody tr th:only-of-type {\n",
       "        vertical-align: middle;\n",
       "    }\n",
       "\n",
       "    .dataframe tbody tr th {\n",
       "        vertical-align: top;\n",
       "    }\n",
       "\n",
       "    .dataframe thead th {\n",
       "        text-align: right;\n",
       "    }\n",
       "</style>\n",
       "<table border=\"1\" class=\"dataframe\">\n",
       "  <thead>\n",
       "    <tr style=\"text-align: right;\">\n",
       "      <th></th>\n",
       "      <th>DATE_CODE</th>\n",
       "      <th>POP</th>\n",
       "      <th>Year</th>\n",
       "      <th>Population</th>\n",
       "    </tr>\n",
       "  </thead>\n",
       "  <tbody>\n",
       "    <tr>\n",
       "      <th>0</th>\n",
       "      <td>2015</td>\n",
       "      <td>38918045</td>\n",
       "      <td>2015</td>\n",
       "      <td>38918045</td>\n",
       "    </tr>\n",
       "    <tr>\n",
       "      <th>1</th>\n",
       "      <td>2016</td>\n",
       "      <td>39167117</td>\n",
       "      <td>2016</td>\n",
       "      <td>39167117</td>\n",
       "    </tr>\n",
       "    <tr>\n",
       "      <th>2</th>\n",
       "      <td>2017</td>\n",
       "      <td>39358497</td>\n",
       "      <td>2017</td>\n",
       "      <td>39358497</td>\n",
       "    </tr>\n",
       "    <tr>\n",
       "      <th>3</th>\n",
       "      <td>2018</td>\n",
       "      <td>39461588</td>\n",
       "      <td>2018</td>\n",
       "      <td>39461588</td>\n",
       "    </tr>\n",
       "    <tr>\n",
       "      <th>4</th>\n",
       "      <td>2019</td>\n",
       "      <td>39512223</td>\n",
       "      <td>2019</td>\n",
       "      <td>39512223</td>\n",
       "    </tr>\n",
       "  </tbody>\n",
       "</table>\n",
       "</div>"
      ],
      "text/plain": [
       "  DATE_CODE       POP   Year Population\n",
       "0     2015   38918045  2015    38918045\n",
       "1     2016   39167117  2016    39167117\n",
       "2     2017   39358497  2017    39358497\n",
       "3     2018   39461588  2018    39461588\n",
       "4     2019   39512223  2019    39512223"
      ]
     },
     "execution_count": 16,
     "metadata": {},
     "output_type": "execute_result"
    }
   ],
   "source": [
    "ca_population"
   ]
  },
  {
   "cell_type": "code",
   "execution_count": 17,
   "id": "9f87210d",
   "metadata": {},
   "outputs": [],
   "source": [
    "ca_population= ca_population.drop(columns=[\"POP\",\"DATE_CODE\"])"
   ]
  },
  {
   "cell_type": "code",
   "execution_count": 18,
   "id": "74bf5c25",
   "metadata": {},
   "outputs": [],
   "source": [
    "ca_population[\"Population\"] = ca_population[\"Population\"].astype(int)"
   ]
  },
  {
   "cell_type": "code",
   "execution_count": 19,
   "id": "d14154b8",
   "metadata": {},
   "outputs": [
    {
     "data": {
      "text/plain": [
       "0    38918045\n",
       "1    39167117\n",
       "2    39358497\n",
       "3    39461588\n",
       "4    39512223\n",
       "Name: Population, dtype: int64"
      ]
     },
     "execution_count": 19,
     "metadata": {},
     "output_type": "execute_result"
    }
   ],
   "source": [
    "ca_population[\"Population\"]"
   ]
  },
  {
   "cell_type": "code",
   "execution_count": 20,
   "id": "63ee03d7",
   "metadata": {},
   "outputs": [],
   "source": [
    "all_opioid_death = pd.read_csv(\"./data/Pre-merging/Opioid_Deaths_by_County_2015-2020.csv\",skipinitialspace = True)"
   ]
  },
  {
   "cell_type": "code",
   "execution_count": 21,
   "id": "8ff2d4c4",
   "metadata": {},
   "outputs": [],
   "source": [
    "california_death = all_opioid_death[   all_opioid_death[\"County\"]== \"California\"  ]"
   ]
  },
  {
   "cell_type": "code",
   "execution_count": 22,
   "id": "c0b40333",
   "metadata": {},
   "outputs": [],
   "source": [
    "california_death = california_death.reset_index(drop=True)"
   ]
  },
  {
   "cell_type": "code",
   "execution_count": 23,
   "id": "e5b34543",
   "metadata": {},
   "outputs": [],
   "source": [
    "california_death= california_death.drop(columns=[\"County\"])"
   ]
  },
  {
   "cell_type": "code",
   "execution_count": 24,
   "id": "a75107dd",
   "metadata": {},
   "outputs": [
    {
     "data": {
      "text/plain": [
       "0    2015\n",
       "1    2016\n",
       "2    2017\n",
       "3    2018\n",
       "4    2019\n",
       "5    2020\n",
       "Name: Year, dtype: int64"
      ]
     },
     "execution_count": 24,
     "metadata": {},
     "output_type": "execute_result"
    }
   ],
   "source": [
    "california_death[\"Year\"]"
   ]
  },
  {
   "cell_type": "code",
   "execution_count": 25,
   "id": "50d8d2ef",
   "metadata": {},
   "outputs": [],
   "source": [
    "california_2020 = pd.read_csv(\"./data/ca_population_2020.csv\",skipinitialspace = True)"
   ]
  },
  {
   "cell_type": "code",
   "execution_count": 26,
   "id": "b76f3d6e",
   "metadata": {},
   "outputs": [],
   "source": [
    "california_2020= california_2020[ california_2020[\"NAME\"]== \"California\"]"
   ]
  },
  {
   "cell_type": "code",
   "execution_count": 27,
   "id": "3605cb6a",
   "metadata": {},
   "outputs": [],
   "source": [
    "california_2020= california_2020.drop(columns= [\"GEO_ID\",\"NAME\",\"POP_BASE2020\",\"POP_2021\"])"
   ]
  },
  {
   "cell_type": "code",
   "execution_count": 28,
   "id": "ef3566bd",
   "metadata": {},
   "outputs": [],
   "source": [
    "california_2020= california_2020.reset_index(drop=True)"
   ]
  },
  {
   "cell_type": "code",
   "execution_count": 29,
   "id": "9fca0e51",
   "metadata": {},
   "outputs": [],
   "source": [
    "california_2020[\"Year\"] = 2020\n",
    "california_2020[\"Population\"]= california_2020[\"POP_2020\"]"
   ]
  },
  {
   "cell_type": "code",
   "execution_count": 30,
   "id": "4be93a1f",
   "metadata": {},
   "outputs": [
    {
     "data": {
      "text/html": [
       "<div>\n",
       "<style scoped>\n",
       "    .dataframe tbody tr th:only-of-type {\n",
       "        vertical-align: middle;\n",
       "    }\n",
       "\n",
       "    .dataframe tbody tr th {\n",
       "        vertical-align: top;\n",
       "    }\n",
       "\n",
       "    .dataframe thead th {\n",
       "        text-align: right;\n",
       "    }\n",
       "</style>\n",
       "<table border=\"1\" class=\"dataframe\">\n",
       "  <thead>\n",
       "    <tr style=\"text-align: right;\">\n",
       "      <th></th>\n",
       "      <th>Year</th>\n",
       "      <th>Population</th>\n",
       "    </tr>\n",
       "  </thead>\n",
       "  <tbody>\n",
       "    <tr>\n",
       "      <th>0</th>\n",
       "      <td>2020</td>\n",
       "      <td>39499738</td>\n",
       "    </tr>\n",
       "  </tbody>\n",
       "</table>\n",
       "</div>"
      ],
      "text/plain": [
       "   Year Population\n",
       "0  2020   39499738"
      ]
     },
     "execution_count": 30,
     "metadata": {},
     "output_type": "execute_result"
    }
   ],
   "source": [
    "california_2020= california_2020.drop(columns=[\"POP_2020\"])\n",
    "california_2020"
   ]
  },
  {
   "cell_type": "code",
   "execution_count": 31,
   "id": "13e48ea8",
   "metadata": {},
   "outputs": [
    {
     "data": {
      "text/html": [
       "<div>\n",
       "<style scoped>\n",
       "    .dataframe tbody tr th:only-of-type {\n",
       "        vertical-align: middle;\n",
       "    }\n",
       "\n",
       "    .dataframe tbody tr th {\n",
       "        vertical-align: top;\n",
       "    }\n",
       "\n",
       "    .dataframe thead th {\n",
       "        text-align: right;\n",
       "    }\n",
       "</style>\n",
       "<table border=\"1\" class=\"dataframe\">\n",
       "  <thead>\n",
       "    <tr style=\"text-align: right;\">\n",
       "      <th></th>\n",
       "      <th>Year</th>\n",
       "      <th>Population</th>\n",
       "    </tr>\n",
       "  </thead>\n",
       "  <tbody>\n",
       "    <tr>\n",
       "      <th>0</th>\n",
       "      <td>2020</td>\n",
       "      <td>39499738</td>\n",
       "    </tr>\n",
       "  </tbody>\n",
       "</table>\n",
       "</div>"
      ],
      "text/plain": [
       "   Year Population\n",
       "0  2020   39499738"
      ]
     },
     "execution_count": 31,
     "metadata": {},
     "output_type": "execute_result"
    }
   ],
   "source": [
    "california_2020"
   ]
  },
  {
   "cell_type": "code",
   "execution_count": 32,
   "id": "a3a316a5",
   "metadata": {
    "scrolled": true
   },
   "outputs": [
    {
     "data": {
      "text/html": [
       "<div>\n",
       "<style scoped>\n",
       "    .dataframe tbody tr th:only-of-type {\n",
       "        vertical-align: middle;\n",
       "    }\n",
       "\n",
       "    .dataframe tbody tr th {\n",
       "        vertical-align: top;\n",
       "    }\n",
       "\n",
       "    .dataframe thead th {\n",
       "        text-align: right;\n",
       "    }\n",
       "</style>\n",
       "<table border=\"1\" class=\"dataframe\">\n",
       "  <thead>\n",
       "    <tr style=\"text-align: right;\">\n",
       "      <th></th>\n",
       "      <th>Year</th>\n",
       "      <th>Population</th>\n",
       "    </tr>\n",
       "  </thead>\n",
       "  <tbody>\n",
       "    <tr>\n",
       "      <th>0</th>\n",
       "      <td>2015</td>\n",
       "      <td>38918045</td>\n",
       "    </tr>\n",
       "    <tr>\n",
       "      <th>1</th>\n",
       "      <td>2016</td>\n",
       "      <td>39167117</td>\n",
       "    </tr>\n",
       "    <tr>\n",
       "      <th>2</th>\n",
       "      <td>2017</td>\n",
       "      <td>39358497</td>\n",
       "    </tr>\n",
       "    <tr>\n",
       "      <th>3</th>\n",
       "      <td>2018</td>\n",
       "      <td>39461588</td>\n",
       "    </tr>\n",
       "    <tr>\n",
       "      <th>4</th>\n",
       "      <td>2019</td>\n",
       "      <td>39512223</td>\n",
       "    </tr>\n",
       "  </tbody>\n",
       "</table>\n",
       "</div>"
      ],
      "text/plain": [
       "    Year  Population\n",
       "0  2015     38918045\n",
       "1  2016     39167117\n",
       "2  2017     39358497\n",
       "3  2018     39461588\n",
       "4  2019     39512223"
      ]
     },
     "execution_count": 32,
     "metadata": {},
     "output_type": "execute_result"
    }
   ],
   "source": [
    "ca_population"
   ]
  },
  {
   "cell_type": "code",
   "execution_count": 33,
   "id": "596a08b7",
   "metadata": {},
   "outputs": [
    {
     "data": {
      "text/html": [
       "<div>\n",
       "<style scoped>\n",
       "    .dataframe tbody tr th:only-of-type {\n",
       "        vertical-align: middle;\n",
       "    }\n",
       "\n",
       "    .dataframe tbody tr th {\n",
       "        vertical-align: top;\n",
       "    }\n",
       "\n",
       "    .dataframe thead th {\n",
       "        text-align: right;\n",
       "    }\n",
       "</style>\n",
       "<table border=\"1\" class=\"dataframe\">\n",
       "  <thead>\n",
       "    <tr style=\"text-align: right;\">\n",
       "      <th></th>\n",
       "      <th>Year</th>\n",
       "      <th>Population</th>\n",
       "    </tr>\n",
       "  </thead>\n",
       "  <tbody>\n",
       "    <tr>\n",
       "      <th>0</th>\n",
       "      <td>2020</td>\n",
       "      <td>39499738</td>\n",
       "    </tr>\n",
       "  </tbody>\n",
       "</table>\n",
       "</div>"
      ],
      "text/plain": [
       "   Year Population\n",
       "0  2020   39499738"
      ]
     },
     "execution_count": 33,
     "metadata": {},
     "output_type": "execute_result"
    }
   ],
   "source": [
    "california_2020"
   ]
  },
  {
   "cell_type": "code",
   "execution_count": 35,
   "id": "48d983d0",
   "metadata": {},
   "outputs": [],
   "source": [
    "ca_2015_2020_pop = pd.concat([ca_population, california_2020], ignore_index=True)"
   ]
  },
  {
   "cell_type": "code",
   "execution_count": 55,
   "id": "415056cf",
   "metadata": {},
   "outputs": [],
   "source": [
    "ca_2015_2020_pop[\"Year\"] = ca_2015_2020_pop[\"Year\"].astype(int)"
   ]
  },
  {
   "cell_type": "code",
   "execution_count": 51,
   "id": "818a6236",
   "metadata": {},
   "outputs": [
    {
     "data": {
      "text/plain": [
       "0    2015\n",
       "1    2016\n",
       "2    2017\n",
       "3    2018\n",
       "4    2019\n",
       "5    2020\n",
       "Name: Year, dtype: int64"
      ]
     },
     "execution_count": 51,
     "metadata": {},
     "output_type": "execute_result"
    }
   ],
   "source": [
    "california_death[\"Year\"]"
   ]
  },
  {
   "cell_type": "code",
   "execution_count": 58,
   "id": "6451836f",
   "metadata": {},
   "outputs": [],
   "source": [
    "ca_population_complete = ca_2015_2020_pop.merge(california_death, on='Year', how='inner')"
   ]
  },
  {
   "cell_type": "code",
   "execution_count": 62,
   "id": "78f6191d",
   "metadata": {},
   "outputs": [],
   "source": [
    "ca_population_complete.to_csv('./data/Merged_CA_population_opioid_death')"
   ]
  }
 ],
 "metadata": {
  "kernelspec": {
   "display_name": "Python 3",
   "language": "python",
   "name": "python3"
  },
  "language_info": {
   "codemirror_mode": {
    "name": "ipython",
    "version": 3
   },
   "file_extension": ".py",
   "mimetype": "text/x-python",
   "name": "python",
   "nbconvert_exporter": "python",
   "pygments_lexer": "ipython3",
   "version": "3.8.8"
  }
 },
 "nbformat": 4,
 "nbformat_minor": 5
}
